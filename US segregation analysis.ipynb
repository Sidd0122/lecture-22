{
 "cells": [
  {
   "cell_type": "markdown",
   "id": "c91eb746",
   "metadata": {},
   "source": [
    "#  Racial Segregation in US Cities Report\n",
    "**By Siddhant Oswal | Division B**"
   ]
  },
  {
   "cell_type": "code",
   "execution_count": 1,
   "id": "86451fd5",
   "metadata": {},
   "outputs": [],
   "source": [
    "# Setup\n",
    "import pandas as pd"
   ]
  },
  {
   "cell_type": "code",
   "execution_count": 2,
   "id": "4ba92053",
   "metadata": {},
   "outputs": [
    {
     "data": {
      "text/html": [
       "<div>\n",
       "<style scoped>\n",
       "    .dataframe tbody tr th:only-of-type {\n",
       "        vertical-align: middle;\n",
       "    }\n",
       "\n",
       "    .dataframe tbody tr th {\n",
       "        vertical-align: top;\n",
       "    }\n",
       "\n",
       "    .dataframe thead th {\n",
       "        text-align: right;\n",
       "    }\n",
       "</style>\n",
       "<table border=\"1\" class=\"dataframe\">\n",
       "  <thead>\n",
       "    <tr style=\"text-align: right;\">\n",
       "      <th></th>\n",
       "      <th>GEOID</th>\n",
       "      <th>GEO.display.label</th>\n",
       "      <th>pop</th>\n",
       "      <th>pop.white</th>\n",
       "      <th>pop.not.white</th>\n",
       "      <th>pct.white</th>\n",
       "      <th>pct.not.white</th>\n",
       "    </tr>\n",
       "  </thead>\n",
       "  <tbody>\n",
       "    <tr>\n",
       "      <th>0</th>\n",
       "      <td>17031010201</td>\n",
       "      <td>17031010201</td>\n",
       "      <td>6450</td>\n",
       "      <td>2312</td>\n",
       "      <td>4138</td>\n",
       "      <td>0.358450</td>\n",
       "      <td>0.641550</td>\n",
       "    </tr>\n",
       "    <tr>\n",
       "      <th>1</th>\n",
       "      <td>17031010202</td>\n",
       "      <td>17031010202</td>\n",
       "      <td>2818</td>\n",
       "      <td>1237</td>\n",
       "      <td>1581</td>\n",
       "      <td>0.438964</td>\n",
       "      <td>0.561036</td>\n",
       "    </tr>\n",
       "    <tr>\n",
       "      <th>2</th>\n",
       "      <td>17031010300</td>\n",
       "      <td>17031010300</td>\n",
       "      <td>6236</td>\n",
       "      <td>3267</td>\n",
       "      <td>2969</td>\n",
       "      <td>0.523894</td>\n",
       "      <td>0.476106</td>\n",
       "    </tr>\n",
       "    <tr>\n",
       "      <th>3</th>\n",
       "      <td>17031010400</td>\n",
       "      <td>17031010400</td>\n",
       "      <td>5042</td>\n",
       "      <td>3341</td>\n",
       "      <td>1701</td>\n",
       "      <td>0.662634</td>\n",
       "      <td>0.337366</td>\n",
       "    </tr>\n",
       "    <tr>\n",
       "      <th>4</th>\n",
       "      <td>17031010503</td>\n",
       "      <td>17031010503</td>\n",
       "      <td>2290</td>\n",
       "      <td>1452</td>\n",
       "      <td>838</td>\n",
       "      <td>0.634061</td>\n",
       "      <td>0.365939</td>\n",
       "    </tr>\n",
       "    <tr>\n",
       "      <th>...</th>\n",
       "      <td>...</td>\n",
       "      <td>...</td>\n",
       "      <td>...</td>\n",
       "      <td>...</td>\n",
       "      <td>...</td>\n",
       "      <td>...</td>\n",
       "      <td>...</td>\n",
       "    </tr>\n",
       "    <tr>\n",
       "      <th>1214</th>\n",
       "      <td>18089030700</td>\n",
       "      <td>18089030700</td>\n",
       "      <td>2064</td>\n",
       "      <td>534</td>\n",
       "      <td>1530</td>\n",
       "      <td>0.258721</td>\n",
       "      <td>0.741279</td>\n",
       "    </tr>\n",
       "    <tr>\n",
       "      <th>1215</th>\n",
       "      <td>18089030800</td>\n",
       "      <td>18089030800</td>\n",
       "      <td>4272</td>\n",
       "      <td>1513</td>\n",
       "      <td>2759</td>\n",
       "      <td>0.354167</td>\n",
       "      <td>0.645833</td>\n",
       "    </tr>\n",
       "    <tr>\n",
       "      <th>1216</th>\n",
       "      <td>18089030900</td>\n",
       "      <td>18089030900</td>\n",
       "      <td>3575</td>\n",
       "      <td>1097</td>\n",
       "      <td>2478</td>\n",
       "      <td>0.306853</td>\n",
       "      <td>0.693147</td>\n",
       "    </tr>\n",
       "    <tr>\n",
       "      <th>1217</th>\n",
       "      <td>18089031000</td>\n",
       "      <td>18089031000</td>\n",
       "      <td>1560</td>\n",
       "      <td>210</td>\n",
       "      <td>1350</td>\n",
       "      <td>0.134615</td>\n",
       "      <td>0.865385</td>\n",
       "    </tr>\n",
       "    <tr>\n",
       "      <th>1218</th>\n",
       "      <td>18089040100</td>\n",
       "      <td>18089040100</td>\n",
       "      <td>1474</td>\n",
       "      <td>1148</td>\n",
       "      <td>326</td>\n",
       "      <td>0.778833</td>\n",
       "      <td>0.221167</td>\n",
       "    </tr>\n",
       "  </tbody>\n",
       "</table>\n",
       "<p>1219 rows × 7 columns</p>\n",
       "</div>"
      ],
      "text/plain": [
       "            GEOID  GEO.display.label   pop  pop.white  pop.not.white  \\\n",
       "0     17031010201        17031010201  6450       2312           4138   \n",
       "1     17031010202        17031010202  2818       1237           1581   \n",
       "2     17031010300        17031010300  6236       3267           2969   \n",
       "3     17031010400        17031010400  5042       3341           1701   \n",
       "4     17031010503        17031010503  2290       1452            838   \n",
       "...           ...                ...   ...        ...            ...   \n",
       "1214  18089030700        18089030700  2064        534           1530   \n",
       "1215  18089030800        18089030800  4272       1513           2759   \n",
       "1216  18089030900        18089030900  3575       1097           2478   \n",
       "1217  18089031000        18089031000  1560        210           1350   \n",
       "1218  18089040100        18089040100  1474       1148            326   \n",
       "\n",
       "      pct.white  pct.not.white  \n",
       "0      0.358450       0.641550  \n",
       "1      0.438964       0.561036  \n",
       "2      0.523894       0.476106  \n",
       "3      0.662634       0.337366  \n",
       "4      0.634061       0.365939  \n",
       "...         ...            ...  \n",
       "1214   0.258721       0.741279  \n",
       "1215   0.354167       0.645833  \n",
       "1216   0.306853       0.693147  \n",
       "1217   0.134615       0.865385  \n",
       "1218   0.778833       0.221167  \n",
       "\n",
       "[1219 rows x 7 columns]"
      ]
     },
     "execution_count": 2,
     "metadata": {},
     "output_type": "execute_result"
    }
   ],
   "source": [
    "# Importing the dataset\n",
    "chicago_df = pd.read_csv(\"data/data/prepped/chicago_race.csv\")\n",
    "\n",
    "#Printing the dataset\n",
    "chicago_df"
   ]
  },
  {
   "cell_type": "markdown",
   "id": "34a785af",
   "metadata": {},
   "source": [
    "# Diversity ratio "
   ]
  },
  {
   "cell_type": "code",
   "execution_count": 3,
   "id": "6fb589d7",
   "metadata": {},
   "outputs": [
    {
     "name": "stdout",
     "output_type": "stream",
     "text": [
      "White people pop = 2513996\n",
      "Non-white prople pop = 2134618\n",
      "The diversity ratio is : 1.1777264128757463\n"
     ]
    }
   ],
   "source": [
    "total_white_people = chicago_df[\"pop.white\"].sum()\n",
    "print(\"White people pop = \" +str(total_white_people))\n",
    "\n",
    "total_non_white_people = chicago_df[\"pop.not.white\"].sum()\n",
    "print(\"Non-white prople pop = \"+str(total_non_white_people))      \n",
    "\n",
    "diversity_ratio = total_white_people/total_non_white_people\n",
    "print(\"The diversity ratio is : \" + str(diversity_ratio))"
   ]
  },
  {
   "cell_type": "markdown",
   "id": "8fcc98d1",
   "metadata": {},
   "source": [
    "# Interaction index"
   ]
  },
  {
   "cell_type": "code",
   "execution_count": 4,
   "id": "fffa3d6a",
   "metadata": {},
   "outputs": [
    {
     "data": {
      "text/html": [
       "<div>\n",
       "<style scoped>\n",
       "    .dataframe tbody tr th:only-of-type {\n",
       "        vertical-align: middle;\n",
       "    }\n",
       "\n",
       "    .dataframe tbody tr th {\n",
       "        vertical-align: top;\n",
       "    }\n",
       "\n",
       "    .dataframe thead th {\n",
       "        text-align: right;\n",
       "    }\n",
       "</style>\n",
       "<table border=\"1\" class=\"dataframe\">\n",
       "  <thead>\n",
       "    <tr style=\"text-align: right;\">\n",
       "      <th></th>\n",
       "      <th>GEOID</th>\n",
       "      <th>GEO.display.label</th>\n",
       "      <th>pop</th>\n",
       "      <th>pop.white</th>\n",
       "      <th>pop.not.white</th>\n",
       "      <th>pct.white</th>\n",
       "      <th>pct.not.white</th>\n",
       "      <th>interaction_index</th>\n",
       "    </tr>\n",
       "  </thead>\n",
       "  <tbody>\n",
       "    <tr>\n",
       "      <th>0</th>\n",
       "      <td>17031010201</td>\n",
       "      <td>17031010201</td>\n",
       "      <td>6450</td>\n",
       "      <td>2312</td>\n",
       "      <td>4138</td>\n",
       "      <td>0.358450</td>\n",
       "      <td>0.641550</td>\n",
       "      <td>0.000695</td>\n",
       "    </tr>\n",
       "    <tr>\n",
       "      <th>1</th>\n",
       "      <td>17031010202</td>\n",
       "      <td>17031010202</td>\n",
       "      <td>2818</td>\n",
       "      <td>1237</td>\n",
       "      <td>1581</td>\n",
       "      <td>0.438964</td>\n",
       "      <td>0.561036</td>\n",
       "      <td>0.000325</td>\n",
       "    </tr>\n",
       "    <tr>\n",
       "      <th>2</th>\n",
       "      <td>17031010300</td>\n",
       "      <td>17031010300</td>\n",
       "      <td>6236</td>\n",
       "      <td>3267</td>\n",
       "      <td>2969</td>\n",
       "      <td>0.523894</td>\n",
       "      <td>0.476106</td>\n",
       "      <td>0.000729</td>\n",
       "    </tr>\n",
       "    <tr>\n",
       "      <th>3</th>\n",
       "      <td>17031010400</td>\n",
       "      <td>17031010400</td>\n",
       "      <td>5042</td>\n",
       "      <td>3341</td>\n",
       "      <td>1701</td>\n",
       "      <td>0.662634</td>\n",
       "      <td>0.337366</td>\n",
       "      <td>0.000528</td>\n",
       "    </tr>\n",
       "    <tr>\n",
       "      <th>4</th>\n",
       "      <td>17031010503</td>\n",
       "      <td>17031010503</td>\n",
       "      <td>2290</td>\n",
       "      <td>1452</td>\n",
       "      <td>838</td>\n",
       "      <td>0.634061</td>\n",
       "      <td>0.365939</td>\n",
       "      <td>0.000249</td>\n",
       "    </tr>\n",
       "  </tbody>\n",
       "</table>\n",
       "</div>"
      ],
      "text/plain": [
       "         GEOID  GEO.display.label   pop  pop.white  pop.not.white  pct.white  \\\n",
       "0  17031010201        17031010201  6450       2312           4138   0.358450   \n",
       "1  17031010202        17031010202  2818       1237           1581   0.438964   \n",
       "2  17031010300        17031010300  6236       3267           2969   0.523894   \n",
       "3  17031010400        17031010400  5042       3341           1701   0.662634   \n",
       "4  17031010503        17031010503  2290       1452            838   0.634061   \n",
       "\n",
       "   pct.not.white  interaction_index  \n",
       "0       0.641550           0.000695  \n",
       "1       0.561036           0.000325  \n",
       "2       0.476106           0.000729  \n",
       "3       0.337366           0.000528  \n",
       "4       0.365939           0.000249  "
      ]
     },
     "execution_count": 4,
     "metadata": {},
     "output_type": "execute_result"
    }
   ],
   "source": [
    "total_minority_pop = chicago_df[\"pop.not.white\"].sum()\n",
    "chicago_df[\"interaction_index\"] = (chicago_df[\"pop.not.white\"] / total_minority_pop) * (chicago_df[\"pop.white\"]/chicago_df[\"pop\"])\n",
    "chicago_df.head()"
   ]
  },
  {
   "cell_type": "code",
   "execution_count": 5,
   "id": "12cfbdfa",
   "metadata": {},
   "outputs": [
    {
     "data": {
      "text/plain": [
       "0.33621530101878605"
      ]
     },
     "execution_count": 5,
     "metadata": {},
     "output_type": "execute_result"
    }
   ],
   "source": [
    "interaction_index_chicago = chicago_df[\"interaction_index\"].sum()\n",
    "interaction_index_chicago"
   ]
  },
  {
   "cell_type": "markdown",
   "id": "7b9adbd3",
   "metadata": {},
   "source": [
    "# Calculate the Interaction index for all US cities"
   ]
  },
  {
   "cell_type": "code",
   "execution_count": 6,
   "id": "3d0ae375",
   "metadata": {},
   "outputs": [],
   "source": [
    "import os"
   ]
  },
  {
   "cell_type": "code",
   "execution_count": 7,
   "id": "8b3b59d1",
   "metadata": {},
   "outputs": [],
   "source": [
    "city_file_name_list = os.listdir(\"data/data/prepped\")"
   ]
  },
  {
   "cell_type": "code",
   "execution_count": 8,
   "id": "d90a3891",
   "metadata": {},
   "outputs": [
    {
     "data": {
      "text/plain": [
       "['baltimore_race.csv',\n",
       " 'charleston_race.csv',\n",
       " 'chicago_race.csv',\n",
       " 'columbus_race.csv',\n",
       " 'dayton_race.csv',\n",
       " 'denver_race.csv',\n",
       " 'kc_race.csv',\n",
       " 'memphis_race.csv',\n",
       " 'milwaukee_race.csv',\n",
       " 'ok_city_race.csv',\n",
       " 'pittsburgh_race.csv',\n",
       " 'st_louis_race.csv',\n",
       " 'syracuse_race.csv',\n",
       " 'wichita_race.csv']"
      ]
     },
     "execution_count": 8,
     "metadata": {},
     "output_type": "execute_result"
    }
   ],
   "source": [
    "city_file_name_list"
   ]
  },
  {
   "cell_type": "code",
   "execution_count": 43,
   "id": "ff85acbb",
   "metadata": {},
   "outputs": [],
   "source": [
    "def print_city_interation_index():\n",
    "    city_file_name_list = os.listdir(\"data/data/prepped/\")\n",
    "    \n",
    "    for city_names in city_file_name_list:\n",
    "        \n",
    "        city_df = pd.read_csv(\"data/data/prepped/\"+city_names)\n",
    "        \n",
    "        total_minority_pop = chicago_df[\"pop.not.white\"].sum()\n",
    "        \n",
    "        city_df[\"interaction_index\"] = (city_df[\"pop.not.white\"] / total_minority_pop) * (city_df[\"pop.white\"]/city_df[\"pop\"])\n",
    "        \n",
    "        interaction_index = city_df[\"interaction_index\"].sum()\n",
    "        \n",
    "        print(city_names.capitalize().replace(\"_race.csv\", \"\"), \" : \", interaction_index)"
   ]
  },
  {
   "cell_type": "code",
   "execution_count": 44,
   "id": "347efd4c",
   "metadata": {},
   "outputs": [
    {
     "name": "stdout",
     "output_type": "stream",
     "text": [
      "Baltimore  :  0.013359092544132627\n",
      "Charleston  :  0.37206746817570885\n",
      "Chicago  :  0.33621530101878605\n",
      "Columbus  :  0.09748767915394775\n",
      "Dayton  :  0.04202063985716865\n",
      "Denver  :  0.19558281757835597\n",
      "Kc  :  0.12589072014503302\n",
      "Memphis  :  0.29170054708115506\n",
      "Milwaukee  :  0.08438208030916368\n",
      "Ok_city  :  0.10122606385428407\n",
      "Pittsburgh  :  0.07504269251620427\n",
      "St_louis  :  0.12920314966767957\n",
      "Syracuse  :  0.028713502037955446\n",
      "Wichita  :  0.03667580609138098\n"
     ]
    }
   ],
   "source": [
    "print_city_interation_index()"
   ]
  },
  {
   "cell_type": "code",
   "execution_count": null,
   "id": "ef8c87ad",
   "metadata": {},
   "outputs": [],
   "source": []
  }
 ],
 "metadata": {
  "kernelspec": {
   "display_name": "Python 3",
   "language": "python",
   "name": "python3"
  },
  "language_info": {
   "codemirror_mode": {
    "name": "ipython",
    "version": 3
   },
   "file_extension": ".py",
   "mimetype": "text/x-python",
   "name": "python",
   "nbconvert_exporter": "python",
   "pygments_lexer": "ipython3",
   "version": "3.8.8"
  }
 },
 "nbformat": 4,
 "nbformat_minor": 5
}
